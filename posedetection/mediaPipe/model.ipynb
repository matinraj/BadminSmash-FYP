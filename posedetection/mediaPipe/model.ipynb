{
 "cells": [
  {
   "cell_type": "code",
   "execution_count": 30,
   "metadata": {},
   "outputs": [],
   "source": [
    "import pandas as pd\n",
    "from sklearn.model_selection import train_test_split"
   ]
  },
  {
   "attachments": {},
   "cell_type": "markdown",
   "metadata": {},
   "source": [
    "<h1> Splitting Data </h1>"
   ]
  },
  {
   "cell_type": "code",
   "execution_count": 31,
   "metadata": {},
   "outputs": [
    {
     "data": {
      "text/html": [
       "<div>\n",
       "<style scoped>\n",
       "    .dataframe tbody tr th:only-of-type {\n",
       "        vertical-align: middle;\n",
       "    }\n",
       "\n",
       "    .dataframe tbody tr th {\n",
       "        vertical-align: top;\n",
       "    }\n",
       "\n",
       "    .dataframe thead th {\n",
       "        text-align: right;\n",
       "    }\n",
       "</style>\n",
       "<table border=\"1\" class=\"dataframe\">\n",
       "  <thead>\n",
       "    <tr style=\"text-align: right;\">\n",
       "      <th></th>\n",
       "      <th>label</th>\n",
       "      <th>left_arm</th>\n",
       "      <th>right_arm</th>\n",
       "      <th>left_leg</th>\n",
       "      <th>right_leg</th>\n",
       "      <th>left_under_arm</th>\n",
       "      <th>right_under_arm</th>\n",
       "    </tr>\n",
       "  </thead>\n",
       "  <tbody>\n",
       "    <tr>\n",
       "      <th>0</th>\n",
       "      <td>backhand</td>\n",
       "      <td>153.831683</td>\n",
       "      <td>94.295869</td>\n",
       "      <td>174.729795</td>\n",
       "      <td>178.129844</td>\n",
       "      <td>30.774366</td>\n",
       "      <td>54.983675</td>\n",
       "    </tr>\n",
       "    <tr>\n",
       "      <th>1</th>\n",
       "      <td>backhand</td>\n",
       "      <td>159.682716</td>\n",
       "      <td>165.319405</td>\n",
       "      <td>83.861828</td>\n",
       "      <td>160.664562</td>\n",
       "      <td>28.973328</td>\n",
       "      <td>129.786230</td>\n",
       "    </tr>\n",
       "    <tr>\n",
       "      <th>2</th>\n",
       "      <td>backhand</td>\n",
       "      <td>172.623750</td>\n",
       "      <td>159.802512</td>\n",
       "      <td>141.201914</td>\n",
       "      <td>128.627047</td>\n",
       "      <td>17.571266</td>\n",
       "      <td>64.672719</td>\n",
       "    </tr>\n",
       "    <tr>\n",
       "      <th>3</th>\n",
       "      <td>backhand</td>\n",
       "      <td>160.749338</td>\n",
       "      <td>151.366336</td>\n",
       "      <td>151.944472</td>\n",
       "      <td>137.232532</td>\n",
       "      <td>43.965636</td>\n",
       "      <td>54.342730</td>\n",
       "    </tr>\n",
       "    <tr>\n",
       "      <th>4</th>\n",
       "      <td>backhand</td>\n",
       "      <td>149.778735</td>\n",
       "      <td>162.277038</td>\n",
       "      <td>132.420502</td>\n",
       "      <td>134.865390</td>\n",
       "      <td>2.824031</td>\n",
       "      <td>104.737124</td>\n",
       "    </tr>\n",
       "  </tbody>\n",
       "</table>\n",
       "</div>"
      ],
      "text/plain": [
       "      label    left_arm   right_arm    left_leg   right_leg   left_under_arm   \n",
       "0  backhand  153.831683   94.295869  174.729795  178.129844        30.774366  \\\n",
       "1  backhand  159.682716  165.319405   83.861828  160.664562        28.973328   \n",
       "2  backhand  172.623750  159.802512  141.201914  128.627047        17.571266   \n",
       "3  backhand  160.749338  151.366336  151.944472  137.232532        43.965636   \n",
       "4  backhand  149.778735  162.277038  132.420502  134.865390         2.824031   \n",
       "\n",
       "    right_under_arm  \n",
       "0         54.983675  \n",
       "1        129.786230  \n",
       "2         64.672719  \n",
       "3         54.342730  \n",
       "4        104.737124  "
      ]
     },
     "execution_count": 31,
     "metadata": {},
     "output_type": "execute_result"
    }
   ],
   "source": [
    "df = pd.read_csv('data.csv')\n",
    "df.head()"
   ]
  },
  {
   "cell_type": "code",
   "execution_count": 32,
   "metadata": {},
   "outputs": [
    {
     "data": {
      "text/html": [
       "<div>\n",
       "<style scoped>\n",
       "    .dataframe tbody tr th:only-of-type {\n",
       "        vertical-align: middle;\n",
       "    }\n",
       "\n",
       "    .dataframe tbody tr th {\n",
       "        vertical-align: top;\n",
       "    }\n",
       "\n",
       "    .dataframe thead th {\n",
       "        text-align: right;\n",
       "    }\n",
       "</style>\n",
       "<table border=\"1\" class=\"dataframe\">\n",
       "  <thead>\n",
       "    <tr style=\"text-align: right;\">\n",
       "      <th></th>\n",
       "      <th>label</th>\n",
       "      <th>left_arm</th>\n",
       "      <th>right_arm</th>\n",
       "      <th>left_leg</th>\n",
       "      <th>right_leg</th>\n",
       "      <th>left_under_arm</th>\n",
       "      <th>right_under_arm</th>\n",
       "    </tr>\n",
       "  </thead>\n",
       "  <tbody>\n",
       "    <tr>\n",
       "      <th>315</th>\n",
       "      <td>netdrop</td>\n",
       "      <td>110.333692</td>\n",
       "      <td>150.115120</td>\n",
       "      <td>147.455646</td>\n",
       "      <td>166.223645</td>\n",
       "      <td>68.550312</td>\n",
       "      <td>147.941548</td>\n",
       "    </tr>\n",
       "    <tr>\n",
       "      <th>316</th>\n",
       "      <td>netdrop</td>\n",
       "      <td>110.333692</td>\n",
       "      <td>150.115120</td>\n",
       "      <td>147.455646</td>\n",
       "      <td>166.223645</td>\n",
       "      <td>68.550312</td>\n",
       "      <td>147.941548</td>\n",
       "    </tr>\n",
       "    <tr>\n",
       "      <th>317</th>\n",
       "      <td>netdrop</td>\n",
       "      <td>154.488167</td>\n",
       "      <td>157.624043</td>\n",
       "      <td>173.314597</td>\n",
       "      <td>76.859425</td>\n",
       "      <td>43.414892</td>\n",
       "      <td>52.639531</td>\n",
       "    </tr>\n",
       "    <tr>\n",
       "      <th>318</th>\n",
       "      <td>netdrop</td>\n",
       "      <td>172.907965</td>\n",
       "      <td>177.863141</td>\n",
       "      <td>175.280904</td>\n",
       "      <td>106.890331</td>\n",
       "      <td>38.639783</td>\n",
       "      <td>39.675953</td>\n",
       "    </tr>\n",
       "    <tr>\n",
       "      <th>319</th>\n",
       "      <td>netdrop</td>\n",
       "      <td>131.975106</td>\n",
       "      <td>167.131190</td>\n",
       "      <td>172.938249</td>\n",
       "      <td>62.752399</td>\n",
       "      <td>14.926732</td>\n",
       "      <td>67.536194</td>\n",
       "    </tr>\n",
       "    <tr>\n",
       "      <th>...</th>\n",
       "      <td>...</td>\n",
       "      <td>...</td>\n",
       "      <td>...</td>\n",
       "      <td>...</td>\n",
       "      <td>...</td>\n",
       "      <td>...</td>\n",
       "      <td>...</td>\n",
       "    </tr>\n",
       "    <tr>\n",
       "      <th>466</th>\n",
       "      <td>netdrop</td>\n",
       "      <td>150.239248</td>\n",
       "      <td>120.346369</td>\n",
       "      <td>171.567650</td>\n",
       "      <td>171.241034</td>\n",
       "      <td>58.456275</td>\n",
       "      <td>101.544361</td>\n",
       "    </tr>\n",
       "    <tr>\n",
       "      <th>467</th>\n",
       "      <td>netdrop</td>\n",
       "      <td>18.842040</td>\n",
       "      <td>79.804371</td>\n",
       "      <td>173.565888</td>\n",
       "      <td>172.717540</td>\n",
       "      <td>16.025459</td>\n",
       "      <td>59.448823</td>\n",
       "    </tr>\n",
       "    <tr>\n",
       "      <th>468</th>\n",
       "      <td>netdrop</td>\n",
       "      <td>80.623352</td>\n",
       "      <td>121.160348</td>\n",
       "      <td>166.343507</td>\n",
       "      <td>151.463896</td>\n",
       "      <td>65.236472</td>\n",
       "      <td>68.185508</td>\n",
       "    </tr>\n",
       "    <tr>\n",
       "      <th>469</th>\n",
       "      <td>netdrop</td>\n",
       "      <td>128.867435</td>\n",
       "      <td>110.008313</td>\n",
       "      <td>166.140527</td>\n",
       "      <td>173.781869</td>\n",
       "      <td>78.000895</td>\n",
       "      <td>45.792649</td>\n",
       "    </tr>\n",
       "    <tr>\n",
       "      <th>470</th>\n",
       "      <td>netdrop</td>\n",
       "      <td>168.346147</td>\n",
       "      <td>63.684257</td>\n",
       "      <td>162.431770</td>\n",
       "      <td>137.895363</td>\n",
       "      <td>38.130476</td>\n",
       "      <td>28.528675</td>\n",
       "    </tr>\n",
       "  </tbody>\n",
       "</table>\n",
       "<p>156 rows × 7 columns</p>\n",
       "</div>"
      ],
      "text/plain": [
       "       label    left_arm   right_arm    left_leg   right_leg   left_under_arm   \n",
       "315  netdrop  110.333692  150.115120  147.455646  166.223645        68.550312  \\\n",
       "316  netdrop  110.333692  150.115120  147.455646  166.223645        68.550312   \n",
       "317  netdrop  154.488167  157.624043  173.314597   76.859425        43.414892   \n",
       "318  netdrop  172.907965  177.863141  175.280904  106.890331        38.639783   \n",
       "319  netdrop  131.975106  167.131190  172.938249   62.752399        14.926732   \n",
       "..       ...         ...         ...         ...         ...              ...   \n",
       "466  netdrop  150.239248  120.346369  171.567650  171.241034        58.456275   \n",
       "467  netdrop   18.842040   79.804371  173.565888  172.717540        16.025459   \n",
       "468  netdrop   80.623352  121.160348  166.343507  151.463896        65.236472   \n",
       "469  netdrop  128.867435  110.008313  166.140527  173.781869        78.000895   \n",
       "470  netdrop  168.346147   63.684257  162.431770  137.895363        38.130476   \n",
       "\n",
       "      right_under_arm  \n",
       "315        147.941548  \n",
       "316        147.941548  \n",
       "317         52.639531  \n",
       "318         39.675953  \n",
       "319         67.536194  \n",
       "..                ...  \n",
       "466        101.544361  \n",
       "467         59.448823  \n",
       "468         68.185508  \n",
       "469         45.792649  \n",
       "470         28.528675  \n",
       "\n",
       "[156 rows x 7 columns]"
      ]
     },
     "execution_count": 32,
     "metadata": {},
     "output_type": "execute_result"
    }
   ],
   "source": [
    "df[df['label'] == 'netdrop']"
   ]
  },
  {
   "cell_type": "code",
   "execution_count": 33,
   "metadata": {},
   "outputs": [],
   "source": [
    "x = df.drop('label', axis=1) # Features\n",
    "y = df['label'] # Prediction"
   ]
  },
  {
   "cell_type": "code",
   "execution_count": 34,
   "metadata": {},
   "outputs": [
    {
     "data": {
      "text/html": [
       "<div>\n",
       "<style scoped>\n",
       "    .dataframe tbody tr th:only-of-type {\n",
       "        vertical-align: middle;\n",
       "    }\n",
       "\n",
       "    .dataframe tbody tr th {\n",
       "        vertical-align: top;\n",
       "    }\n",
       "\n",
       "    .dataframe thead th {\n",
       "        text-align: right;\n",
       "    }\n",
       "</style>\n",
       "<table border=\"1\" class=\"dataframe\">\n",
       "  <thead>\n",
       "    <tr style=\"text-align: right;\">\n",
       "      <th></th>\n",
       "      <th>left_arm</th>\n",
       "      <th>right_arm</th>\n",
       "      <th>left_leg</th>\n",
       "      <th>right_leg</th>\n",
       "      <th>left_under_arm</th>\n",
       "      <th>right_under_arm</th>\n",
       "    </tr>\n",
       "  </thead>\n",
       "  <tbody>\n",
       "    <tr>\n",
       "      <th>71</th>\n",
       "      <td>104.748447</td>\n",
       "      <td>133.245239</td>\n",
       "      <td>176.945998</td>\n",
       "      <td>167.036985</td>\n",
       "      <td>70.093267</td>\n",
       "      <td>88.040431</td>\n",
       "    </tr>\n",
       "    <tr>\n",
       "      <th>351</th>\n",
       "      <td>175.122321</td>\n",
       "      <td>176.911322</td>\n",
       "      <td>148.813391</td>\n",
       "      <td>81.959873</td>\n",
       "      <td>11.579262</td>\n",
       "      <td>43.205770</td>\n",
       "    </tr>\n",
       "    <tr>\n",
       "      <th>427</th>\n",
       "      <td>151.910768</td>\n",
       "      <td>156.946148</td>\n",
       "      <td>179.099086</td>\n",
       "      <td>166.794277</td>\n",
       "      <td>175.805841</td>\n",
       "      <td>163.569792</td>\n",
       "    </tr>\n",
       "    <tr>\n",
       "      <th>517</th>\n",
       "      <td>98.004896</td>\n",
       "      <td>16.809799</td>\n",
       "      <td>175.525479</td>\n",
       "      <td>175.370027</td>\n",
       "      <td>17.504179</td>\n",
       "      <td>76.671163</td>\n",
       "    </tr>\n",
       "    <tr>\n",
       "      <th>166</th>\n",
       "      <td>120.060647</td>\n",
       "      <td>118.495615</td>\n",
       "      <td>171.972533</td>\n",
       "      <td>139.667929</td>\n",
       "      <td>38.873562</td>\n",
       "      <td>73.850709</td>\n",
       "    </tr>\n",
       "    <tr>\n",
       "      <th>...</th>\n",
       "      <td>...</td>\n",
       "      <td>...</td>\n",
       "      <td>...</td>\n",
       "      <td>...</td>\n",
       "      <td>...</td>\n",
       "      <td>...</td>\n",
       "    </tr>\n",
       "    <tr>\n",
       "      <th>279</th>\n",
       "      <td>126.835084</td>\n",
       "      <td>166.376068</td>\n",
       "      <td>127.801746</td>\n",
       "      <td>129.581273</td>\n",
       "      <td>137.166580</td>\n",
       "      <td>69.862808</td>\n",
       "    </tr>\n",
       "    <tr>\n",
       "      <th>372</th>\n",
       "      <td>112.251408</td>\n",
       "      <td>129.800801</td>\n",
       "      <td>153.350089</td>\n",
       "      <td>48.373415</td>\n",
       "      <td>15.030994</td>\n",
       "      <td>103.427960</td>\n",
       "    </tr>\n",
       "    <tr>\n",
       "      <th>204</th>\n",
       "      <td>44.553514</td>\n",
       "      <td>164.212521</td>\n",
       "      <td>140.824697</td>\n",
       "      <td>152.177735</td>\n",
       "      <td>34.095709</td>\n",
       "      <td>39.626568</td>\n",
       "    </tr>\n",
       "    <tr>\n",
       "      <th>53</th>\n",
       "      <td>148.349364</td>\n",
       "      <td>167.527395</td>\n",
       "      <td>136.090594</td>\n",
       "      <td>178.946055</td>\n",
       "      <td>35.421753</td>\n",
       "      <td>111.568381</td>\n",
       "    </tr>\n",
       "    <tr>\n",
       "      <th>294</th>\n",
       "      <td>169.406236</td>\n",
       "      <td>128.727903</td>\n",
       "      <td>170.768846</td>\n",
       "      <td>132.056743</td>\n",
       "      <td>20.111432</td>\n",
       "      <td>75.530820</td>\n",
       "    </tr>\n",
       "  </tbody>\n",
       "</table>\n",
       "<p>471 rows × 6 columns</p>\n",
       "</div>"
      ],
      "text/plain": [
       "       left_arm   right_arm    left_leg   right_leg   left_under_arm   \n",
       "71   104.748447  133.245239  176.945998  167.036985        70.093267  \\\n",
       "351  175.122321  176.911322  148.813391   81.959873        11.579262   \n",
       "427  151.910768  156.946148  179.099086  166.794277       175.805841   \n",
       "517   98.004896   16.809799  175.525479  175.370027        17.504179   \n",
       "166  120.060647  118.495615  171.972533  139.667929        38.873562   \n",
       "..          ...         ...         ...         ...              ...   \n",
       "279  126.835084  166.376068  127.801746  129.581273       137.166580   \n",
       "372  112.251408  129.800801  153.350089   48.373415        15.030994   \n",
       "204   44.553514  164.212521  140.824697  152.177735        34.095709   \n",
       "53   148.349364  167.527395  136.090594  178.946055        35.421753   \n",
       "294  169.406236  128.727903  170.768846  132.056743        20.111432   \n",
       "\n",
       "      right_under_arm  \n",
       "71          88.040431  \n",
       "351         43.205770  \n",
       "427        163.569792  \n",
       "517         76.671163  \n",
       "166         73.850709  \n",
       "..                ...  \n",
       "279         69.862808  \n",
       "372        103.427960  \n",
       "204         39.626568  \n",
       "53         111.568381  \n",
       "294         75.530820  \n",
       "\n",
       "[471 rows x 6 columns]"
      ]
     },
     "execution_count": 34,
     "metadata": {},
     "output_type": "execute_result"
    }
   ],
   "source": [
    "x_train, x_test, y_train, y_test = train_test_split(x, y, test_size=0.2, random_state=1234)\n",
    "x_train"
   ]
  },
  {
   "attachments": {},
   "cell_type": "markdown",
   "metadata": {},
   "source": [
    "<h1> Model Construction </h1>"
   ]
  },
  {
   "cell_type": "code",
   "execution_count": 35,
   "metadata": {},
   "outputs": [],
   "source": [
    "from sklearn.pipeline import make_pipeline\n",
    "from sklearn.preprocessing import StandardScaler\n",
    "from sklearn.linear_model import LogisticRegression, RidgeClassifier\n",
    "from sklearn.ensemble import RandomForestClassifier, GradientBoostingClassifier\n",
    "from sklearn.neighbors import KNeighborsClassifier"
   ]
  },
  {
   "cell_type": "code",
   "execution_count": 36,
   "metadata": {},
   "outputs": [],
   "source": [
    "pipelines = {\n",
    "    'LR': make_pipeline(StandardScaler(), LogisticRegression()),\n",
    "    'RC': make_pipeline(StandardScaler(), RidgeClassifier()),\n",
    "    'RFC': make_pipeline(StandardScaler(), RandomForestClassifier()),\n",
    "    'GBC': make_pipeline(StandardScaler(), GradientBoostingClassifier()),\n",
    "    'KNN': make_pipeline(StandardScaler(), KNeighborsClassifier())\n",
    "}"
   ]
  },
  {
   "cell_type": "code",
   "execution_count": 37,
   "metadata": {},
   "outputs": [],
   "source": [
    "fit_models = {}\n",
    "for algo, pipeline in pipelines.items():\n",
    "    model = pipeline.fit(x_train.values, y_train.values)\n",
    "    fit_models[algo] = model"
   ]
  },
  {
   "cell_type": "code",
   "execution_count": 38,
   "metadata": {},
   "outputs": [
    {
     "data": {
      "text/plain": [
       "{'LR': Pipeline(steps=[('standardscaler', StandardScaler()),\n",
       "                 ('logisticregression', LogisticRegression())]),\n",
       " 'RC': Pipeline(steps=[('standardscaler', StandardScaler()),\n",
       "                 ('ridgeclassifier', RidgeClassifier())]),\n",
       " 'RFC': Pipeline(steps=[('standardscaler', StandardScaler()),\n",
       "                 ('randomforestclassifier', RandomForestClassifier())]),\n",
       " 'GBC': Pipeline(steps=[('standardscaler', StandardScaler()),\n",
       "                 ('gradientboostingclassifier', GradientBoostingClassifier())]),\n",
       " 'KNN': Pipeline(steps=[('standardscaler', StandardScaler()),\n",
       "                 ('kneighborsclassifier', KNeighborsClassifier())])}"
      ]
     },
     "execution_count": 38,
     "metadata": {},
     "output_type": "execute_result"
    }
   ],
   "source": [
    "fit_models"
   ]
  },
  {
   "cell_type": "code",
   "execution_count": 39,
   "metadata": {},
   "outputs": [
    {
     "name": "stderr",
     "output_type": "stream",
     "text": [
      "c:\\Users\\ljuli\\anaconda3\\envs\\MediaPipe\\lib\\site-packages\\sklearn\\base.py:432: UserWarning: X has feature names, but StandardScaler was fitted without feature names\n",
      "  warnings.warn(\n"
     ]
    }
   ],
   "source": [
    "y_pred = fit_models['KNN'].predict(x_test)"
   ]
  },
  {
   "cell_type": "code",
   "execution_count": 40,
   "metadata": {},
   "outputs": [],
   "source": [
    "from sklearn.metrics import confusion_matrix\n",
    "cm = confusion_matrix(y_test, y_pred)\n",
    "cm = pd.DataFrame(cm)"
   ]
  },
  {
   "cell_type": "code",
   "execution_count": 41,
   "metadata": {},
   "outputs": [
    {
     "data": {
      "image/png": "[encoded data removed]",
      "text/plain": [
       "<Figure size 500x400 with 2 Axes>"
      ]
     },
     "metadata": {},
     "output_type": "display_data"
    }
   ],
   "source": [
    "import matplotlib.pyplot as plt\n",
    "import seaborn as sns\n",
    "plt.figure(figsize=(5,4))\n",
    "sns.heatmap(cm, annot=True)\n",
    "plt.title('Confusion Matrix')\n",
    "plt.ylabel('Actal Values')\n",
    "plt.xlabel('Predicted Values')\n",
    "plt.show()"
   ]
  },
  {
   "attachments": {},
   "cell_type": "markdown",
   "metadata": {},
   "source": [
    "<h1> Evaluation </h1>"
   ]
  },
  {
   "cell_type": "code",
   "execution_count": 42,
   "metadata": {},
   "outputs": [],
   "source": [
    "from sklearn.metrics import accuracy_score\n",
    "import pickle"
   ]
  },
  {
   "cell_type": "code",
   "execution_count": 43,
   "metadata": {},
   "outputs": [
    {
     "name": "stdout",
     "output_type": "stream",
     "text": [
      "LR 0.6949152542372882\n",
      "RC 0.6949152542372882\n",
      "RFC 0.7542372881355932\n",
      "GBC 0.6949152542372882\n",
      "KNN 0.6949152542372882\n"
     ]
    },
    {
     "name": "stderr",
     "output_type": "stream",
     "text": [
      "c:\\Users\\ljuli\\anaconda3\\envs\\MediaPipe\\lib\\site-packages\\sklearn\\base.py:432: UserWarning: X has feature names, but StandardScaler was fitted without feature names\n",
      "  warnings.warn(\n",
      "c:\\Users\\ljuli\\anaconda3\\envs\\MediaPipe\\lib\\site-packages\\sklearn\\base.py:432: UserWarning: X has feature names, but StandardScaler was fitted without feature names\n",
      "  warnings.warn(\n",
      "c:\\Users\\ljuli\\anaconda3\\envs\\MediaPipe\\lib\\site-packages\\sklearn\\base.py:432: UserWarning: X has feature names, but StandardScaler was fitted without feature names\n",
      "  warnings.warn(\n",
      "c:\\Users\\ljuli\\anaconda3\\envs\\MediaPipe\\lib\\site-packages\\sklearn\\base.py:432: UserWarning: X has feature names, but StandardScaler was fitted without feature names\n",
      "  warnings.warn(\n",
      "c:\\Users\\ljuli\\anaconda3\\envs\\MediaPipe\\lib\\site-packages\\sklearn\\base.py:432: UserWarning: X has feature names, but StandardScaler was fitted without feature names\n",
      "  warnings.warn(\n"
     ]
    }
   ],
   "source": [
    "for algo, model in fit_models.items():\n",
    "    yhat = model.predict(x_test)\n",
    "    print(algo, accuracy_score(y_test, yhat))"
   ]
  },
  {
   "cell_type": "code",
   "execution_count": 44,
   "metadata": {},
   "outputs": [],
   "source": [
    "# with open('modelv01.pkl', 'wb') as f:\n",
    "#     pickle.dump(fit_models['RFC'], f)"
   ]
  },
  {
   "attachments": {},
   "cell_type": "markdown",
   "metadata": {},
   "source": [
    "<h1> Using model </h1>"
   ]
  }
 ],
 "metadata": {
  "kernelspec": {
   "display_name": "base",
   "language": "python",
   "name": "python3"
  },
  "language_info": {
   "codemirror_mode": {
    "name": "ipython",
    "version": 3
   },
   "file_extension": ".py",
   "mimetype": "text/x-python",
   "name": "python",
   "nbconvert_exporter": "python",
   "pygments_lexer": "ipython3",
   "version": "3.9.16"
  },
  "orig_nbformat": 4
 },
 "nbformat": 4,
 "nbformat_minor": 2
}
